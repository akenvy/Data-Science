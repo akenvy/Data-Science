{
  "nbformat": 4,
  "nbformat_minor": 0,
  "metadata": {
    "colab": {
      "name": "contest.ipynb",
      "provenance": [],
      "collapsed_sections": [],
      "machine_shape": "hm"
    },
    "kernelspec": {
      "name": "python3",
      "display_name": "Python 3"
    },
    "widgets": {
      "application/vnd.jupyter.widget-state+json": {
        "06ea591e1e0a4f98b706eb612a64e390": {
          "model_module": "@jupyter-widgets/controls",
          "model_name": "HBoxModel",
          "state": {
            "_view_name": "HBoxView",
            "_dom_classes": [],
            "_model_name": "HBoxModel",
            "_view_module": "@jupyter-widgets/controls",
            "_model_module_version": "1.5.0",
            "_view_count": null,
            "_view_module_version": "1.5.0",
            "box_style": "",
            "layout": "IPY_MODEL_ed522bfefbae4780aeb06a1b8602bb06",
            "_model_module": "@jupyter-widgets/controls",
            "children": [
              "IPY_MODEL_cfb7fea5ad954cb48b53eab552968b91",
              "IPY_MODEL_efb811b3c718445c83a13e5dab37f3e2"
            ]
          }
        },
        "ed522bfefbae4780aeb06a1b8602bb06": {
          "model_module": "@jupyter-widgets/base",
          "model_name": "LayoutModel",
          "state": {
            "_view_name": "LayoutView",
            "grid_template_rows": null,
            "right": null,
            "justify_content": null,
            "_view_module": "@jupyter-widgets/base",
            "overflow": null,
            "_model_module_version": "1.2.0",
            "_view_count": null,
            "flex_flow": null,
            "width": null,
            "min_width": null,
            "border": null,
            "align_items": null,
            "bottom": null,
            "_model_module": "@jupyter-widgets/base",
            "top": null,
            "grid_column": null,
            "overflow_y": null,
            "overflow_x": null,
            "grid_auto_flow": null,
            "grid_area": null,
            "grid_template_columns": null,
            "flex": null,
            "_model_name": "LayoutModel",
            "justify_items": null,
            "grid_row": null,
            "max_height": null,
            "align_content": null,
            "visibility": null,
            "align_self": null,
            "height": null,
            "min_height": null,
            "padding": null,
            "grid_auto_rows": null,
            "grid_gap": null,
            "max_width": null,
            "order": null,
            "_view_module_version": "1.2.0",
            "grid_template_areas": null,
            "object_position": null,
            "object_fit": null,
            "grid_auto_columns": null,
            "margin": null,
            "display": null,
            "left": null
          }
        },
        "cfb7fea5ad954cb48b53eab552968b91": {
          "model_module": "@jupyter-widgets/controls",
          "model_name": "IntProgressModel",
          "state": {
            "_view_name": "ProgressView",
            "style": "IPY_MODEL_cd49482f5c274e8487b02d6611d13fd1",
            "_dom_classes": [],
            "description": "",
            "_model_name": "IntProgressModel",
            "bar_style": "success",
            "max": 1,
            "_view_module": "@jupyter-widgets/controls",
            "_model_module_version": "1.5.0",
            "value": 1,
            "_view_count": null,
            "_view_module_version": "1.5.0",
            "orientation": "horizontal",
            "min": 0,
            "description_tooltip": null,
            "_model_module": "@jupyter-widgets/controls",
            "layout": "IPY_MODEL_89ba15294ae6470b8ccbb8303ee5e57b"
          }
        },
        "efb811b3c718445c83a13e5dab37f3e2": {
          "model_module": "@jupyter-widgets/controls",
          "model_name": "HTMLModel",
          "state": {
            "_view_name": "HTMLView",
            "style": "IPY_MODEL_295046433de64ce5a4534e6f6f5f6a72",
            "_dom_classes": [],
            "description": "",
            "_model_name": "HTMLModel",
            "placeholder": "​",
            "_view_module": "@jupyter-widgets/controls",
            "_model_module_version": "1.5.0",
            "value": "328050it [2:27:02, 37.18it/s]",
            "_view_count": null,
            "_view_module_version": "1.5.0",
            "description_tooltip": null,
            "_model_module": "@jupyter-widgets/controls",
            "layout": "IPY_MODEL_fcdc8b877c6e41db98d3832e177ccec3"
          }
        },
        "cd49482f5c274e8487b02d6611d13fd1": {
          "model_module": "@jupyter-widgets/controls",
          "model_name": "ProgressStyleModel",
          "state": {
            "_view_name": "StyleView",
            "_model_name": "ProgressStyleModel",
            "description_width": "",
            "_view_module": "@jupyter-widgets/base",
            "_model_module_version": "1.5.0",
            "_view_count": null,
            "_view_module_version": "1.2.0",
            "bar_color": null,
            "_model_module": "@jupyter-widgets/controls"
          }
        },
        "89ba15294ae6470b8ccbb8303ee5e57b": {
          "model_module": "@jupyter-widgets/base",
          "model_name": "LayoutModel",
          "state": {
            "_view_name": "LayoutView",
            "grid_template_rows": null,
            "right": null,
            "justify_content": null,
            "_view_module": "@jupyter-widgets/base",
            "overflow": null,
            "_model_module_version": "1.2.0",
            "_view_count": null,
            "flex_flow": null,
            "width": null,
            "min_width": null,
            "border": null,
            "align_items": null,
            "bottom": null,
            "_model_module": "@jupyter-widgets/base",
            "top": null,
            "grid_column": null,
            "overflow_y": null,
            "overflow_x": null,
            "grid_auto_flow": null,
            "grid_area": null,
            "grid_template_columns": null,
            "flex": null,
            "_model_name": "LayoutModel",
            "justify_items": null,
            "grid_row": null,
            "max_height": null,
            "align_content": null,
            "visibility": null,
            "align_self": null,
            "height": null,
            "min_height": null,
            "padding": null,
            "grid_auto_rows": null,
            "grid_gap": null,
            "max_width": null,
            "order": null,
            "_view_module_version": "1.2.0",
            "grid_template_areas": null,
            "object_position": null,
            "object_fit": null,
            "grid_auto_columns": null,
            "margin": null,
            "display": null,
            "left": null
          }
        },
        "295046433de64ce5a4534e6f6f5f6a72": {
          "model_module": "@jupyter-widgets/controls",
          "model_name": "DescriptionStyleModel",
          "state": {
            "_view_name": "StyleView",
            "_model_name": "DescriptionStyleModel",
            "description_width": "",
            "_view_module": "@jupyter-widgets/base",
            "_model_module_version": "1.5.0",
            "_view_count": null,
            "_view_module_version": "1.2.0",
            "_model_module": "@jupyter-widgets/controls"
          }
        },
        "fcdc8b877c6e41db98d3832e177ccec3": {
          "model_module": "@jupyter-widgets/base",
          "model_name": "LayoutModel",
          "state": {
            "_view_name": "LayoutView",
            "grid_template_rows": null,
            "right": null,
            "justify_content": null,
            "_view_module": "@jupyter-widgets/base",
            "overflow": null,
            "_model_module_version": "1.2.0",
            "_view_count": null,
            "flex_flow": null,
            "width": null,
            "min_width": null,
            "border": null,
            "align_items": null,
            "bottom": null,
            "_model_module": "@jupyter-widgets/base",
            "top": null,
            "grid_column": null,
            "overflow_y": null,
            "overflow_x": null,
            "grid_auto_flow": null,
            "grid_area": null,
            "grid_template_columns": null,
            "flex": null,
            "_model_name": "LayoutModel",
            "justify_items": null,
            "grid_row": null,
            "max_height": null,
            "align_content": null,
            "visibility": null,
            "align_self": null,
            "height": null,
            "min_height": null,
            "padding": null,
            "grid_auto_rows": null,
            "grid_gap": null,
            "max_width": null,
            "order": null,
            "_view_module_version": "1.2.0",
            "grid_template_areas": null,
            "object_position": null,
            "object_fit": null,
            "grid_auto_columns": null,
            "margin": null,
            "display": null,
            "left": null
          }
        },
        "8762f625f1e24db2bb5aad1495d7f538": {
          "model_module": "@jupyter-widgets/controls",
          "model_name": "HBoxModel",
          "state": {
            "_view_name": "HBoxView",
            "_dom_classes": [],
            "_model_name": "HBoxModel",
            "_view_module": "@jupyter-widgets/controls",
            "_model_module_version": "1.5.0",
            "_view_count": null,
            "_view_module_version": "1.5.0",
            "box_style": "",
            "layout": "IPY_MODEL_2dd92b0b952d4c6fa3600344c78af400",
            "_model_module": "@jupyter-widgets/controls",
            "children": [
              "IPY_MODEL_22a488feb3074ff39f9662f0c112cc1a",
              "IPY_MODEL_dda0c65b63c64bf4831ee4d57f20b420"
            ]
          }
        },
        "2dd92b0b952d4c6fa3600344c78af400": {
          "model_module": "@jupyter-widgets/base",
          "model_name": "LayoutModel",
          "state": {
            "_view_name": "LayoutView",
            "grid_template_rows": null,
            "right": null,
            "justify_content": null,
            "_view_module": "@jupyter-widgets/base",
            "overflow": null,
            "_model_module_version": "1.2.0",
            "_view_count": null,
            "flex_flow": null,
            "width": null,
            "min_width": null,
            "border": null,
            "align_items": null,
            "bottom": null,
            "_model_module": "@jupyter-widgets/base",
            "top": null,
            "grid_column": null,
            "overflow_y": null,
            "overflow_x": null,
            "grid_auto_flow": null,
            "grid_area": null,
            "grid_template_columns": null,
            "flex": null,
            "_model_name": "LayoutModel",
            "justify_items": null,
            "grid_row": null,
            "max_height": null,
            "align_content": null,
            "visibility": null,
            "align_self": null,
            "height": null,
            "min_height": null,
            "padding": null,
            "grid_auto_rows": null,
            "grid_gap": null,
            "max_width": null,
            "order": null,
            "_view_module_version": "1.2.0",
            "grid_template_areas": null,
            "object_position": null,
            "object_fit": null,
            "grid_auto_columns": null,
            "margin": null,
            "display": null,
            "left": null
          }
        },
        "22a488feb3074ff39f9662f0c112cc1a": {
          "model_module": "@jupyter-widgets/controls",
          "model_name": "IntProgressModel",
          "state": {
            "_view_name": "ProgressView",
            "style": "IPY_MODEL_41a647a1416b48e8884e34f5b2d91f0b",
            "_dom_classes": [],
            "description": "",
            "_model_name": "IntProgressModel",
            "bar_style": "success",
            "max": 1,
            "_view_module": "@jupyter-widgets/controls",
            "_model_module_version": "1.5.0",
            "value": 1,
            "_view_count": null,
            "_view_module_version": "1.5.0",
            "orientation": "horizontal",
            "min": 0,
            "description_tooltip": null,
            "_model_module": "@jupyter-widgets/controls",
            "layout": "IPY_MODEL_78416537c6b04edcbcf6cc769763a51f"
          }
        },
        "dda0c65b63c64bf4831ee4d57f20b420": {
          "model_module": "@jupyter-widgets/controls",
          "model_name": "HTMLModel",
          "state": {
            "_view_name": "HTMLView",
            "style": "IPY_MODEL_1bac4f687da642d09d19a09a3fd3c15b",
            "_dom_classes": [],
            "description": "",
            "_model_name": "HTMLModel",
            "placeholder": "​",
            "_view_module": "@jupyter-widgets/controls",
            "_model_module_version": "1.5.0",
            "value": "42977it [00:52, 817.93it/s]",
            "_view_count": null,
            "_view_module_version": "1.5.0",
            "description_tooltip": null,
            "_model_module": "@jupyter-widgets/controls",
            "layout": "IPY_MODEL_3e6f9fdff10746b48f167e09e14d622f"
          }
        },
        "41a647a1416b48e8884e34f5b2d91f0b": {
          "model_module": "@jupyter-widgets/controls",
          "model_name": "ProgressStyleModel",
          "state": {
            "_view_name": "StyleView",
            "_model_name": "ProgressStyleModel",
            "description_width": "",
            "_view_module": "@jupyter-widgets/base",
            "_model_module_version": "1.5.0",
            "_view_count": null,
            "_view_module_version": "1.2.0",
            "bar_color": null,
            "_model_module": "@jupyter-widgets/controls"
          }
        },
        "78416537c6b04edcbcf6cc769763a51f": {
          "model_module": "@jupyter-widgets/base",
          "model_name": "LayoutModel",
          "state": {
            "_view_name": "LayoutView",
            "grid_template_rows": null,
            "right": null,
            "justify_content": null,
            "_view_module": "@jupyter-widgets/base",
            "overflow": null,
            "_model_module_version": "1.2.0",
            "_view_count": null,
            "flex_flow": null,
            "width": null,
            "min_width": null,
            "border": null,
            "align_items": null,
            "bottom": null,
            "_model_module": "@jupyter-widgets/base",
            "top": null,
            "grid_column": null,
            "overflow_y": null,
            "overflow_x": null,
            "grid_auto_flow": null,
            "grid_area": null,
            "grid_template_columns": null,
            "flex": null,
            "_model_name": "LayoutModel",
            "justify_items": null,
            "grid_row": null,
            "max_height": null,
            "align_content": null,
            "visibility": null,
            "align_self": null,
            "height": null,
            "min_height": null,
            "padding": null,
            "grid_auto_rows": null,
            "grid_gap": null,
            "max_width": null,
            "order": null,
            "_view_module_version": "1.2.0",
            "grid_template_areas": null,
            "object_position": null,
            "object_fit": null,
            "grid_auto_columns": null,
            "margin": null,
            "display": null,
            "left": null
          }
        },
        "1bac4f687da642d09d19a09a3fd3c15b": {
          "model_module": "@jupyter-widgets/controls",
          "model_name": "DescriptionStyleModel",
          "state": {
            "_view_name": "StyleView",
            "_model_name": "DescriptionStyleModel",
            "description_width": "",
            "_view_module": "@jupyter-widgets/base",
            "_model_module_version": "1.5.0",
            "_view_count": null,
            "_view_module_version": "1.2.0",
            "_model_module": "@jupyter-widgets/controls"
          }
        },
        "3e6f9fdff10746b48f167e09e14d622f": {
          "model_module": "@jupyter-widgets/base",
          "model_name": "LayoutModel",
          "state": {
            "_view_name": "LayoutView",
            "grid_template_rows": null,
            "right": null,
            "justify_content": null,
            "_view_module": "@jupyter-widgets/base",
            "overflow": null,
            "_model_module_version": "1.2.0",
            "_view_count": null,
            "flex_flow": null,
            "width": null,
            "min_width": null,
            "border": null,
            "align_items": null,
            "bottom": null,
            "_model_module": "@jupyter-widgets/base",
            "top": null,
            "grid_column": null,
            "overflow_y": null,
            "overflow_x": null,
            "grid_auto_flow": null,
            "grid_area": null,
            "grid_template_columns": null,
            "flex": null,
            "_model_name": "LayoutModel",
            "justify_items": null,
            "grid_row": null,
            "max_height": null,
            "align_content": null,
            "visibility": null,
            "align_self": null,
            "height": null,
            "min_height": null,
            "padding": null,
            "grid_auto_rows": null,
            "grid_gap": null,
            "max_width": null,
            "order": null,
            "_view_module_version": "1.2.0",
            "grid_template_areas": null,
            "object_position": null,
            "object_fit": null,
            "grid_auto_columns": null,
            "margin": null,
            "display": null,
            "left": null
          }
        }
      }
    },
    "accelerator": "GPU"
  },
  "cells": [
    {
      "cell_type": "code",
      "metadata": {
        "id": "0yUs-3tWYSGB",
        "colab_type": "code",
        "colab": {}
      },
      "source": [
        "import numpy as np\n",
        "import pandas as pd\n",
        "import zipfile\n",
        "import json\n",
        "from tqdm.auto import tqdm\n",
        "from multiprocessing import Pool, cpu_count"
      ],
      "execution_count": 0,
      "outputs": []
    },
    {
      "cell_type": "code",
      "metadata": {
        "id": "SL5F-kB7YWLN",
        "colab_type": "code",
        "outputId": "bd2bebc9-32d1-4720-e9eb-c22587b1fe45",
        "colab": {
          "base_uri": "https://localhost:8080/",
          "height": 228
        }
      },
      "source": [
        "pip install kaggle"
      ],
      "execution_count": 2,
      "outputs": [
        {
          "output_type": "stream",
          "text": [
            "Requirement already satisfied: kaggle in /usr/local/lib/python3.6/dist-packages (1.5.6)\n",
            "Requirement already satisfied: certifi in /usr/local/lib/python3.6/dist-packages (from kaggle) (2019.11.28)\n",
            "Requirement already satisfied: python-dateutil in /usr/local/lib/python3.6/dist-packages (from kaggle) (2.6.1)\n",
            "Requirement already satisfied: requests in /usr/local/lib/python3.6/dist-packages (from kaggle) (2.21.0)\n",
            "Requirement already satisfied: tqdm in /usr/local/lib/python3.6/dist-packages (from kaggle) (4.28.1)\n",
            "Requirement already satisfied: python-slugify in /usr/local/lib/python3.6/dist-packages (from kaggle) (4.0.0)\n",
            "Requirement already satisfied: six>=1.10 in /usr/local/lib/python3.6/dist-packages (from kaggle) (1.12.0)\n",
            "Requirement already satisfied: urllib3<1.25,>=1.21.1 in /usr/local/lib/python3.6/dist-packages (from kaggle) (1.24.3)\n",
            "Requirement already satisfied: idna<2.9,>=2.5 in /usr/local/lib/python3.6/dist-packages (from requests->kaggle) (2.8)\n",
            "Requirement already satisfied: chardet<3.1.0,>=3.0.2 in /usr/local/lib/python3.6/dist-packages (from requests->kaggle) (3.0.4)\n",
            "Requirement already satisfied: text-unidecode>=1.3 in /usr/local/lib/python3.6/dist-packages (from python-slugify->kaggle) (1.3)\n"
          ],
          "name": "stdout"
        }
      ]
    },
    {
      "cell_type": "code",
      "metadata": {
        "id": "oDXCokHEYXHs",
        "colab_type": "code",
        "outputId": "07be3216-8dfa-4b70-e8b0-d55ed4c7bc7a",
        "colab": {
          "base_uri": "https://localhost:8080/",
          "height": 35
        }
      },
      "source": [
        "!ls -a"
      ],
      "execution_count": 10,
      "outputs": [
        {
          "output_type": "stream",
          "text": [
            ".  ..  .config\t.kaggle  sample_data\n"
          ],
          "name": "stdout"
        }
      ]
    },
    {
      "cell_type": "code",
      "metadata": {
        "id": "XhyTH8DaYaMH",
        "colab_type": "code",
        "outputId": "e2f7422c-34a3-4472-81ea-9eb134efe988",
        "colab": {
          "base_uri": "https://localhost:8080/",
          "height": 35
        }
      },
      "source": [
        "!mkdir .kaggle"
      ],
      "execution_count": 11,
      "outputs": [
        {
          "output_type": "stream",
          "text": [
            "mkdir: cannot create directory ‘.kaggle’: File exists\n"
          ],
          "name": "stdout"
        }
      ]
    },
    {
      "cell_type": "code",
      "metadata": {
        "id": "j24v9ojRYg_T",
        "colab_type": "code",
        "colab": {}
      },
      "source": [
        "import json\n",
        "token = {\"username\":\"envykhamidov\",\"key\":\"fdd2921f97a333303ae41722b3421d9f\"}\n",
        "with open('/content/.kaggle/kaggle.json', 'w') as file:\n",
        "    json.dump(token, file)\n"
      ],
      "execution_count": 0,
      "outputs": []
    },
    {
      "cell_type": "code",
      "metadata": {
        "id": "s07hfEhJYh7y",
        "colab_type": "code",
        "colab": {}
      },
      "source": [
        "!chmod 600 /content/.kaggle/kaggle.json"
      ],
      "execution_count": 0,
      "outputs": []
    },
    {
      "cell_type": "code",
      "metadata": {
        "id": "CiJllGrjYk4r",
        "colab_type": "code",
        "colab": {}
      },
      "source": [
        "!cp /content/.kaggle/kaggle.json ~/.kaggle/kaggle.json"
      ],
      "execution_count": 0,
      "outputs": []
    },
    {
      "cell_type": "code",
      "metadata": {
        "id": "XTVUWAppYptw",
        "colab_type": "code",
        "outputId": "c9d4d2a7-5a4b-440b-b2ec-29265456dbb5",
        "colab": {
          "base_uri": "https://localhost:8080/",
          "height": 35
        }
      },
      "source": [
        "!kaggle config set -n path -v{/content}"
      ],
      "execution_count": 15,
      "outputs": [
        {
          "output_type": "stream",
          "text": [
            "- path is now set to: {/content}\n"
          ],
          "name": "stdout"
        }
      ]
    },
    {
      "cell_type": "code",
      "metadata": {
        "id": "hbKzl2XcYuW1",
        "colab_type": "code",
        "outputId": "892c9f99-b23c-43cf-cb46-21f9d124b336",
        "colab": {
          "base_uri": "https://localhost:8080/",
          "height": 211
        }
      },
      "source": [
        "!kaggle competitions download -c recsys-iad-challenge"
      ],
      "execution_count": 16,
      "outputs": [
        {
          "output_type": "stream",
          "text": [
            "Warning: Looks like you're using an outdated API Version, please consider updating (server 1.5.6 / client 1.5.4)\n",
            "Downloading random_benchmark.csv.zip to {/content}/competitions/recsys-iad-challenge\n",
            " 82% 9.00M/10.9M [00:00<00:00, 16.4MB/s]\n",
            "100% 10.9M/10.9M [00:00<00:00, 18.6MB/s]\n",
            "Downloading train.json.zip to {/content}/competitions/recsys-iad-challenge\n",
            " 96% 225M/235M [00:02<00:00, 76.5MB/s]\n",
            "100% 235M/235M [00:03<00:00, 80.2MB/s]\n",
            "Downloading items.json.zip to {/content}/competitions/recsys-iad-challenge\n",
            " 99% 363M/368M [00:02<00:00, 88.4MB/s]\n",
            "100% 368M/368M [00:02<00:00, 137MB/s] \n"
          ],
          "name": "stdout"
        }
      ]
    },
    {
      "cell_type": "code",
      "metadata": {
        "id": "H6dI4lvVY4oW",
        "colab_type": "code",
        "colab": {}
      },
      "source": [
        "items_json = zipfile.ZipFile('/content/{/content}/competitions/recsys-iad-challenge/items.json.zip', 'r')\n",
        "random_benchmark_csv = zipfile.ZipFile('/content/{/content}/competitions/recsys-iad-challenge/random_benchmark.csv.zip', 'r')\n",
        "train_json = zipfile.ZipFile('/content/{/content}/competitions/recsys-iad-challenge/train.json.zip', 'r')\n"
      ],
      "execution_count": 0,
      "outputs": []
    },
    {
      "cell_type": "code",
      "metadata": {
        "id": "2pqhSrfgZqub",
        "colab_type": "code",
        "colab": {}
      },
      "source": [
        "items_json.extractall()\n",
        "random_benchmark_csv.extractall()\n",
        "train_json.extractall()\n"
      ],
      "execution_count": 0,
      "outputs": []
    },
    {
      "cell_type": "code",
      "metadata": {
        "id": "Rv38GvPLv5X7",
        "colab_type": "code",
        "colab": {
          "base_uri": "https://localhost:8080/",
          "height": 384
        },
        "outputId": "f4df4a82-dbf9-4c2d-c7e0-95825e2a0203"
      },
      "source": [
        "!wget https://www.dropbox.com/s/5jkp5uq3vr7ynse/normalized_text.csv?dl=0"
      ],
      "execution_count": 19,
      "outputs": [
        {
          "output_type": "stream",
          "text": [
            "--2020-03-04 19:32:38--  https://www.dropbox.com/s/5jkp5uq3vr7ynse/normalized_text.csv?dl=0\n",
            "Resolving www.dropbox.com (www.dropbox.com)... 162.125.8.1, 2620:100:601b:1::a27d:801\n",
            "Connecting to www.dropbox.com (www.dropbox.com)|162.125.8.1|:443... connected.\n",
            "HTTP request sent, awaiting response... 301 Moved Permanently\n",
            "Location: /s/raw/5jkp5uq3vr7ynse/normalized_text.csv [following]\n",
            "--2020-03-04 19:32:38--  https://www.dropbox.com/s/raw/5jkp5uq3vr7ynse/normalized_text.csv\n",
            "Reusing existing connection to www.dropbox.com:443.\n",
            "HTTP request sent, awaiting response... 302 Found\n",
            "Location: https://uc1c891d8df9723429f43271107b.dl.dropboxusercontent.com/cd/0/inline/AzSKG6Do6kqM6_HqBWx-AaN8UxMxYMp-mUfkoD3GpO-T7YrQl1y8TjtDqmnff8rX6YgZZOrnKzG5y1SmKKF0nPpcmGFhhiSh3c1ILGmh_i4mxmHxXRbNAQT-4yDRZMA42x8/file# [following]\n",
            "--2020-03-04 19:32:38--  https://uc1c891d8df9723429f43271107b.dl.dropboxusercontent.com/cd/0/inline/AzSKG6Do6kqM6_HqBWx-AaN8UxMxYMp-mUfkoD3GpO-T7YrQl1y8TjtDqmnff8rX6YgZZOrnKzG5y1SmKKF0nPpcmGFhhiSh3c1ILGmh_i4mxmHxXRbNAQT-4yDRZMA42x8/file\n",
            "Resolving uc1c891d8df9723429f43271107b.dl.dropboxusercontent.com (uc1c891d8df9723429f43271107b.dl.dropboxusercontent.com)... 162.125.8.6, 2620:100:601b:6::a27d:806\n",
            "Connecting to uc1c891d8df9723429f43271107b.dl.dropboxusercontent.com (uc1c891d8df9723429f43271107b.dl.dropboxusercontent.com)|162.125.8.6|:443... connected.\n",
            "HTTP request sent, awaiting response... 200 OK\n",
            "Length: 917239314 (875M) [text/plain]\n",
            "Saving to: ‘normalized_text.csv?dl=0’\n",
            "\n",
            "normalized_text.csv 100%[===================>] 874.75M  38.4MB/s    in 19s     \n",
            "\n",
            "2020-03-04 19:32:58 (46.1 MB/s) - ‘normalized_text.csv?dl=0’ saved [917239314/917239314]\n",
            "\n"
          ],
          "name": "stdout"
        }
      ]
    },
    {
      "cell_type": "code",
      "metadata": {
        "id": "DjLQDgnJ_KGs",
        "colab_type": "code",
        "colab": {
          "base_uri": "https://localhost:8080/",
          "height": 228
        },
        "outputId": "74227f5d-5d26-4055-ec72-58f487a8b6d2"
      },
      "source": [
        "!pip install pymorphy2"
      ],
      "execution_count": 23,
      "outputs": [
        {
          "output_type": "stream",
          "text": [
            "Collecting pymorphy2\n",
            "\u001b[?25l  Downloading https://files.pythonhosted.org/packages/a3/33/fff9675c68b5f6c63ec8c6e6ff57827dda28a1fa5b2c2d727dffff92dd47/pymorphy2-0.8-py2.py3-none-any.whl (46kB)\n",
            "\u001b[K     |████████████████████████████████| 51kB 1.6MB/s \n",
            "\u001b[?25hRequirement already satisfied: docopt>=0.6 in /usr/local/lib/python3.6/dist-packages (from pymorphy2) (0.6.2)\n",
            "Collecting pymorphy2-dicts<3.0,>=2.4\n",
            "\u001b[?25l  Downloading https://files.pythonhosted.org/packages/02/51/2465fd4f72328ab50877b54777764d928da8cb15b74e2680fc1bd8cb3173/pymorphy2_dicts-2.4.393442.3710985-py2.py3-none-any.whl (7.1MB)\n",
            "\u001b[K     |████████████████████████████████| 7.1MB 6.3MB/s \n",
            "\u001b[?25hCollecting dawg-python>=0.7\n",
            "  Downloading https://files.pythonhosted.org/packages/6a/84/ff1ce2071d4c650ec85745766c0047ccc3b5036f1d03559fd46bb38b5eeb/DAWG_Python-0.7.2-py2.py3-none-any.whl\n",
            "Installing collected packages: pymorphy2-dicts, dawg-python, pymorphy2\n",
            "Successfully installed dawg-python-0.7.2 pymorphy2-0.8 pymorphy2-dicts-2.4.393442.3710985\n"
          ],
          "name": "stdout"
        }
      ]
    },
    {
      "cell_type": "code",
      "metadata": {
        "id": "1qJJw6_bAlXY",
        "colab_type": "code",
        "colab": {
          "base_uri": "https://localhost:8080/",
          "height": 67,
          "referenced_widgets": [
            "06ea591e1e0a4f98b706eb612a64e390",
            "ed522bfefbae4780aeb06a1b8602bb06",
            "cfb7fea5ad954cb48b53eab552968b91",
            "efb811b3c718445c83a13e5dab37f3e2",
            "cd49482f5c274e8487b02d6611d13fd1",
            "89ba15294ae6470b8ccbb8303ee5e57b",
            "295046433de64ce5a4534e6f6f5f6a72",
            "fcdc8b877c6e41db98d3832e177ccec3"
          ]
        },
        "outputId": "d0e8d505-1172-42b9-eb13-762ee4363de7"
      },
      "source": [
        "import string\n",
        "import pymorphy2\n",
        "\n",
        "def text_normalizer(text):\n",
        "    return \" \".join([morph.normal_forms(word)[0] for word in text.translate(table).lower().split()])\n",
        "\n",
        "def transformation(line):\n",
        "    item = json.loads(line)\n",
        "    item[\"title\"] = text_normalizer(item[\"title\"])\n",
        "    item[\"content\"] = text_normalizer(item[\"content\"])\n",
        "    return item\n",
        "\n",
        "chars_to_replace=string.punctuation\n",
        "table = str.maketrans(chars_to_replace, \" \"*len(chars_to_replace))\n",
        "morph = pymorphy2.MorphAnalyzer()\n",
        "items_list = []\n",
        "\n",
        "with tqdm(open('./items.json')) as inf:\n",
        "    with Pool(cpu_count()) as p:\n",
        "        items_list = list(p.imap(transformation, inf))\n"
      ],
      "execution_count": 33,
      "outputs": [
        {
          "output_type": "display_data",
          "data": {
            "application/vnd.jupyter.widget-view+json": {
              "model_id": "06ea591e1e0a4f98b706eb612a64e390",
              "version_minor": 0,
              "version_major": 2
            },
            "text/plain": [
              "HBox(children=(IntProgress(value=1, bar_style='info', max=1), HTML(value='')))"
            ]
          },
          "metadata": {
            "tags": []
          }
        },
        {
          "output_type": "stream",
          "text": [
            "\n"
          ],
          "name": "stdout"
        }
      ]
    },
    {
      "cell_type": "code",
      "metadata": {
        "id": "By1o3TUnjToE",
        "colab_type": "code",
        "colab": {}
      },
      "source": [
        "items_df = pd.DataFrame(items_list).set_index('itemId')\n",
        "items_df = items_df.drop(columns = ['image']) "
      ],
      "execution_count": 0,
      "outputs": []
    },
    {
      "cell_type": "code",
      "metadata": {
        "id": "j_e7RkNYvybe",
        "colab_type": "code",
        "colab": {}
      },
      "source": [
        "#файл получен в ноутбуке до этого и для более быстрого доступа загружается через dropbox\n",
        "items_df = pd.read_csv(\"/content/normalized_text.csv?dl=0\") #для локального использования\n",
        "#лемматизация проходит очень долго ~2.5 часа\n",
        "#предыдущие 3 ячейки дают такой же результат если их запустить"
      ],
      "execution_count": 0,
      "outputs": []
    },
    {
      "cell_type": "code",
      "metadata": {
        "id": "uNQY7Ljmbj60",
        "colab_type": "code",
        "outputId": "30218362-cf76-48c4-aeaa-b4f318ec21c5",
        "colab": {
          "base_uri": "https://localhost:8080/",
          "height": 101,
          "referenced_widgets": [
            "8762f625f1e24db2bb5aad1495d7f538",
            "2dd92b0b952d4c6fa3600344c78af400",
            "22a488feb3074ff39f9662f0c112cc1a",
            "dda0c65b63c64bf4831ee4d57f20b420",
            "41a647a1416b48e8884e34f5b2d91f0b",
            "78416537c6b04edcbcf6cc769763a51f",
            "1bac4f687da642d09d19a09a3fd3c15b",
            "3e6f9fdff10746b48f167e09e14d622f"
          ]
        }
      },
      "source": [
        "%%time\n",
        "\n",
        "from tqdm.auto import tqdm\n",
        "\n",
        "#train_list = []\n",
        "user_ids = []\n",
        "item_ids = []\n",
        "values = []\n",
        "s = 0\n",
        "with tqdm(open('./train.json')) as inf:\n",
        "  for line in inf:\n",
        "    s+=1\n",
        "    train = json.loads(line)\n",
        "    for i in train['trainRatings'].keys():\n",
        "      item_ids.append(i)\n",
        "    for j in train['trainRatings'].values():\n",
        "      if j ==1:\n",
        "        values.append(j+0.5)\n",
        "      else:\n",
        "        values.append(j-1)\n",
        "    for k in range(len(train['trainRatings'].keys())):\n",
        "      user_ids.append(train['userId'])\n",
        "  "
      ],
      "execution_count": 21,
      "outputs": [
        {
          "output_type": "display_data",
          "data": {
            "application/vnd.jupyter.widget-view+json": {
              "model_id": "8762f625f1e24db2bb5aad1495d7f538",
              "version_minor": 0,
              "version_major": 2
            },
            "text/plain": [
              "HBox(children=(IntProgress(value=1, bar_style='info', max=1), HTML(value='')))"
            ]
          },
          "metadata": {
            "tags": []
          }
        },
        {
          "output_type": "stream",
          "text": [
            "\n",
            "CPU times: user 49 s, sys: 3.67 s, total: 52.7 s\n",
            "Wall time: 52.5 s\n"
          ],
          "name": "stdout"
        }
      ]
    },
    {
      "cell_type": "code",
      "metadata": {
        "id": "fxtAY6-IkWTS",
        "colab_type": "code",
        "colab": {
          "base_uri": "https://localhost:8080/",
          "height": 201
        },
        "outputId": "51bcb403-c71f-4123-da3a-c05ed075ced1"
      },
      "source": [
        "import gc\n",
        "del items_list\n",
        "gc.collect()\n",
        "#если лемматизируем в ноутбуке"
      ],
      "execution_count": 41,
      "outputs": [
        {
          "output_type": "error",
          "ename": "NameError",
          "evalue": "ignored",
          "traceback": [
            "\u001b[0;31m---------------------------------------------------------------------------\u001b[0m",
            "\u001b[0;31mNameError\u001b[0m                                 Traceback (most recent call last)",
            "\u001b[0;32m<ipython-input-41-69306daee0a0>\u001b[0m in \u001b[0;36m<module>\u001b[0;34m()\u001b[0m\n\u001b[1;32m      1\u001b[0m \u001b[0;32mimport\u001b[0m \u001b[0mgc\u001b[0m\u001b[0;34m\u001b[0m\u001b[0;34m\u001b[0m\u001b[0m\n\u001b[0;32m----> 2\u001b[0;31m \u001b[0;32mdel\u001b[0m \u001b[0mitems_list\u001b[0m\u001b[0;34m\u001b[0m\u001b[0;34m\u001b[0m\u001b[0m\n\u001b[0m\u001b[1;32m      3\u001b[0m \u001b[0mgc\u001b[0m\u001b[0;34m.\u001b[0m\u001b[0mcollect\u001b[0m\u001b[0;34m(\u001b[0m\u001b[0;34m)\u001b[0m\u001b[0;34m\u001b[0m\u001b[0;34m\u001b[0m\u001b[0m\n",
            "\u001b[0;31mNameError\u001b[0m: name 'items_list' is not defined"
          ]
        }
      ]
    },
    {
      "cell_type": "code",
      "metadata": {
        "id": "AdMErQd_QAI4",
        "colab_type": "code",
        "outputId": "45763028-0a70-47a2-8315-871010875847",
        "colab": {
          "base_uri": "https://localhost:8080/",
          "height": 52
        }
      },
      "source": [
        "%%time\n",
        "\n",
        "from scipy.sparse import coo_matrix\n",
        "coo = coo_matrix((values, (user_ids, item_ids)), shape=(s, len(items_df['title'])))"
      ],
      "execution_count": 22,
      "outputs": [
        {
          "output_type": "stream",
          "text": [
            "CPU times: user 28.2 s, sys: 1.05 s, total: 29.3 s\n",
            "Wall time: 29.2 s\n"
          ],
          "name": "stdout"
        }
      ]
    },
    {
      "cell_type": "code",
      "metadata": {
        "id": "SXZimlg8ZbZ7",
        "colab_type": "code",
        "colab": {
          "base_uri": "https://localhost:8080/",
          "height": 35
        },
        "outputId": "71d87466-6c9d-48bd-c6c1-1b8f9d16a647"
      },
      "source": [
        "import gc\n",
        "del user_ids\n",
        "del item_ids\n",
        "del values\n",
        "gc.collect()"
      ],
      "execution_count": 23,
      "outputs": [
        {
          "output_type": "execute_result",
          "data": {
            "text/plain": [
              "0"
            ]
          },
          "metadata": {
            "tags": []
          },
          "execution_count": 23
        }
      ]
    },
    {
      "cell_type": "code",
      "metadata": {
        "id": "Kjh-UeBHS9lt",
        "colab_type": "code",
        "colab": {}
      },
      "source": [
        "from sklearn.feature_extraction.text import TfidfVectorizer"
      ],
      "execution_count": 0,
      "outputs": []
    },
    {
      "cell_type": "code",
      "metadata": {
        "id": "V1OyJbHnS5td",
        "colab_type": "code",
        "outputId": "010e8034-13a2-4d17-b389-e624d5c46190",
        "colab": {
          "base_uri": "https://localhost:8080/",
          "height": 52
        }
      },
      "source": [
        "vectorizer = TfidfVectorizer(lowercase=False, min_df = 100, max_df = 0.01)\n",
        "tfidf_titles = vectorizer.fit_transform(items_df.title.astype('U'))\n",
        "tfidf_titles"
      ],
      "execution_count": 25,
      "outputs": [
        {
          "output_type": "execute_result",
          "data": {
            "text/plain": [
              "<328050x3372 sparse matrix of type '<class 'numpy.float64'>'\n",
              "\twith 1222133 stored elements in Compressed Sparse Row format>"
            ]
          },
          "metadata": {
            "tags": []
          },
          "execution_count": 25
        }
      ]
    },
    {
      "cell_type": "code",
      "metadata": {
        "id": "z-WZOz7oddy-",
        "colab_type": "code",
        "outputId": "89510b00-ec19-44a8-c1de-1cac31235830",
        "colab": {
          "base_uri": "https://localhost:8080/",
          "height": 52
        }
      },
      "source": [
        "vectorizer1 = TfidfVectorizer(lowercase=False, min_df = 100, max_df = 0.01)\n",
        "tfidf_contents = vectorizer1.fit_transform(items_df.content.astype('U'))\n",
        "tfidf_contents"
      ],
      "execution_count": 26,
      "outputs": [
        {
          "output_type": "execute_result",
          "data": {
            "text/plain": [
              "<328050x23676 sparse matrix of type '<class 'numpy.float64'>'\n",
              "\twith 12591384 stored elements in Compressed Sparse Row format>"
            ]
          },
          "metadata": {
            "tags": []
          },
          "execution_count": 26
        }
      ]
    },
    {
      "cell_type": "code",
      "metadata": {
        "id": "zJIF4qZjds9i",
        "colab_type": "code",
        "colab": {}
      },
      "source": [
        "import scipy\n",
        "from scipy.sparse import hstack\n",
        "features = scipy.sparse.hstack([tfidf_contents, tfidf_titles], format=\"csr\")"
      ],
      "execution_count": 0,
      "outputs": []
    },
    {
      "cell_type": "code",
      "metadata": {
        "id": "pm_2OlhN3KG8",
        "colab_type": "code",
        "colab": {
          "base_uri": "https://localhost:8080/",
          "height": 52
        },
        "outputId": "09565591-c5d4-40a0-a06f-9e4d5570cf30"
      },
      "source": [
        "features"
      ],
      "execution_count": 28,
      "outputs": [
        {
          "output_type": "execute_result",
          "data": {
            "text/plain": [
              "<328050x27048 sparse matrix of type '<class 'numpy.float64'>'\n",
              "\twith 13813517 stored elements in Compressed Sparse Row format>"
            ]
          },
          "metadata": {
            "tags": []
          },
          "execution_count": 28
        }
      ]
    },
    {
      "cell_type": "code",
      "metadata": {
        "id": "lhescJX5Yx-D",
        "colab_type": "code",
        "outputId": "ab96e312-c94b-40db-eb77-b9d4fbcf3fdf",
        "colab": {
          "base_uri": "https://localhost:8080/",
          "height": 332
        }
      },
      "source": [
        "!pip install lightfm"
      ],
      "execution_count": 29,
      "outputs": [
        {
          "output_type": "stream",
          "text": [
            "Collecting lightfm\n",
            "\u001b[?25l  Downloading https://files.pythonhosted.org/packages/e9/8e/5485ac5a8616abe1c673d1e033e2f232b4319ab95424b42499fabff2257f/lightfm-1.15.tar.gz (302kB)\n",
            "\r\u001b[K     |█                               | 10kB 23.0MB/s eta 0:00:01\r\u001b[K     |██▏                             | 20kB 2.6MB/s eta 0:00:01\r\u001b[K     |███▎                            | 30kB 3.1MB/s eta 0:00:01\r\u001b[K     |████▍                           | 40kB 2.9MB/s eta 0:00:01\r\u001b[K     |█████▍                          | 51kB 3.2MB/s eta 0:00:01\r\u001b[K     |██████▌                         | 61kB 3.8MB/s eta 0:00:01\r\u001b[K     |███████▋                        | 71kB 3.8MB/s eta 0:00:01\r\u001b[K     |████████▊                       | 81kB 3.7MB/s eta 0:00:01\r\u001b[K     |█████████▊                      | 92kB 4.1MB/s eta 0:00:01\r\u001b[K     |██████████▉                     | 102kB 4.4MB/s eta 0:00:01\r\u001b[K     |████████████                    | 112kB 4.4MB/s eta 0:00:01\r\u001b[K     |█████████████                   | 122kB 4.4MB/s eta 0:00:01\r\u001b[K     |██████████████                  | 133kB 4.4MB/s eta 0:00:01\r\u001b[K     |███████████████▏                | 143kB 4.4MB/s eta 0:00:01\r\u001b[K     |████████████████▎               | 153kB 4.4MB/s eta 0:00:01\r\u001b[K     |█████████████████▍              | 163kB 4.4MB/s eta 0:00:01\r\u001b[K     |██████████████████▍             | 174kB 4.4MB/s eta 0:00:01\r\u001b[K     |███████████████████▌            | 184kB 4.4MB/s eta 0:00:01\r\u001b[K     |████████████████████▋           | 194kB 4.4MB/s eta 0:00:01\r\u001b[K     |█████████████████████▊          | 204kB 4.4MB/s eta 0:00:01\r\u001b[K     |██████████████████████▊         | 215kB 4.4MB/s eta 0:00:01\r\u001b[K     |███████████████████████▉        | 225kB 4.4MB/s eta 0:00:01\r\u001b[K     |█████████████████████████       | 235kB 4.4MB/s eta 0:00:01\r\u001b[K     |██████████████████████████      | 245kB 4.4MB/s eta 0:00:01\r\u001b[K     |███████████████████████████     | 256kB 4.4MB/s eta 0:00:01\r\u001b[K     |████████████████████████████▏   | 266kB 4.4MB/s eta 0:00:01\r\u001b[K     |█████████████████████████████▎  | 276kB 4.4MB/s eta 0:00:01\r\u001b[K     |██████████████████████████████▍ | 286kB 4.4MB/s eta 0:00:01\r\u001b[K     |███████████████████████████████▍| 296kB 4.4MB/s eta 0:00:01\r\u001b[K     |████████████████████████████████| 307kB 4.4MB/s \n",
            "\u001b[?25hRequirement already satisfied: numpy in /usr/local/lib/python3.6/dist-packages (from lightfm) (1.17.5)\n",
            "Requirement already satisfied: scipy>=0.17.0 in /usr/local/lib/python3.6/dist-packages (from lightfm) (1.4.1)\n",
            "Requirement already satisfied: requests in /usr/local/lib/python3.6/dist-packages (from lightfm) (2.21.0)\n",
            "Requirement already satisfied: idna<2.9,>=2.5 in /usr/local/lib/python3.6/dist-packages (from requests->lightfm) (2.8)\n",
            "Requirement already satisfied: urllib3<1.25,>=1.21.1 in /usr/local/lib/python3.6/dist-packages (from requests->lightfm) (1.24.3)\n",
            "Requirement already satisfied: chardet<3.1.0,>=3.0.2 in /usr/local/lib/python3.6/dist-packages (from requests->lightfm) (3.0.4)\n",
            "Requirement already satisfied: certifi>=2017.4.17 in /usr/local/lib/python3.6/dist-packages (from requests->lightfm) (2019.11.28)\n",
            "Building wheels for collected packages: lightfm\n",
            "  Building wheel for lightfm (setup.py) ... \u001b[?25l\u001b[?25hdone\n",
            "  Created wheel for lightfm: filename=lightfm-1.15-cp36-cp36m-linux_x86_64.whl size=707616 sha256=52bb30f439f4fe8790f9b5a9acddbe8cb34c4cef74dd93c0b0a88a981770ec85\n",
            "  Stored in directory: /root/.cache/pip/wheels/eb/bb/ac/188385a5da6627956be5d9663928483b36da576149ab5b8f79\n",
            "Successfully built lightfm\n",
            "Installing collected packages: lightfm\n",
            "Successfully installed lightfm-1.15\n"
          ],
          "name": "stdout"
        }
      ]
    },
    {
      "cell_type": "code",
      "metadata": {
        "id": "UXa_IzUf7eql",
        "colab_type": "code",
        "colab": {}
      },
      "source": [
        "import lightfm as fm\n",
        "lfm = fm.LightFM(loss = 'logistic', no_components = 100)"
      ],
      "execution_count": 0,
      "outputs": []
    },
    {
      "cell_type": "code",
      "metadata": {
        "id": "jtOZ6HgQlxRv",
        "colab_type": "code",
        "outputId": "fd658283-8aa4-49c5-af99-953bbcbc0bce",
        "colab": {
          "base_uri": "https://localhost:8080/",
          "height": 208
        }
      },
      "source": [
        "lfm.fit_partial(coo, epochs = 10, verbose =1, num_threads = 4, item_features = features) "
      ],
      "execution_count": 35,
      "outputs": [
        {
          "output_type": "stream",
          "text": [
            "Epoch 0\n",
            "Epoch 1\n",
            "Epoch 2\n",
            "Epoch 3\n",
            "Epoch 4\n",
            "Epoch 5\n",
            "Epoch 6\n",
            "Epoch 7\n",
            "Epoch 8\n",
            "Epoch 9\n"
          ],
          "name": "stdout"
        },
        {
          "output_type": "execute_result",
          "data": {
            "text/plain": [
              "<lightfm.lightfm.LightFM at 0x7f5bfca4ee48>"
            ]
          },
          "metadata": {
            "tags": []
          },
          "execution_count": 35
        }
      ]
    },
    {
      "cell_type": "code",
      "metadata": {
        "id": "hF15tg4U6_gU",
        "colab_type": "code",
        "colab": {}
      },
      "source": [
        "df = pd.read_csv(\"/content/random_benchmark.csv\") "
      ],
      "execution_count": 0,
      "outputs": []
    },
    {
      "cell_type": "code",
      "metadata": {
        "id": "uAMqhrK5tEKe",
        "colab_type": "code",
        "colab": {}
      },
      "source": [
        "preds = lfm.predict(user_ids = df.userId.values, item_ids = df.itemId.values, item_features = features)"
      ],
      "execution_count": 0,
      "outputs": []
    },
    {
      "cell_type": "code",
      "metadata": {
        "id": "gtFJQ6G4l4QV",
        "colab_type": "code",
        "colab": {}
      },
      "source": [
        "df['score'] = preds\n",
        "temp1 = df.sort_values('score')[::-1]\n",
        "temp1.to_csv(\"log.csv\", columns =['userId', \"itemId\"], index = False)"
      ],
      "execution_count": 0,
      "outputs": []
    },
    {
      "cell_type": "code",
      "metadata": {
        "id": "U2ZdLhwT9L3G",
        "colab_type": "code",
        "colab": {}
      },
      "source": [
        ""
      ],
      "execution_count": 0,
      "outputs": []
    }
  ]
}